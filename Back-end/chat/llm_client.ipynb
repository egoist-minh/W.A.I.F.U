{
 "cells": [
  {
   "cell_type": "code",
   "execution_count": null,
   "id": "4d008ab2",
   "metadata": {},
   "outputs": [],
   "source": [
    "\n",
    "from openai import OpenAI\n",
    "\n",
    "client = OpenAI(\n",
    "    base_url = 'http://localhost:11434/v1',\n",
    "    api_key='ollama', # required, but unused\n",
    ")\n",
    "activated = True\n",
    "\n",
    "while (activated != False) :\n",
    "\n",
    "    User_input = input(\"User: \")\n",
    "    response = client.chat.completions.create(\n",
    "    model=\"gemma2:9b\",\n",
    "    messages=[\n",
    "        {\"role\": \"system\", \"content\": \"You are a tsundere girl.Chat with me with this pesonality\"},\n",
    "        {\"role\": \"user\", \"content\": User_input}\n",
    "    ]\n",
    "    )\n",
    "    out_put = response.choices[0].message.content\n",
    "    print(out_put)\n",
    "\n"
   ]
  }
 ],
 "metadata": {
  "kernelspec": {
   "display_name": "base",
   "language": "python",
   "name": "python3"
  },
  "language_info": {
   "codemirror_mode": {
    "name": "ipython",
    "version": 3
   },
   "file_extension": ".py",
   "mimetype": "text/x-python",
   "name": "python",
   "nbconvert_exporter": "python",
   "pygments_lexer": "ipython3",
   "version": "3.12.7"
  }
 },
 "nbformat": 4,
 "nbformat_minor": 5
}
