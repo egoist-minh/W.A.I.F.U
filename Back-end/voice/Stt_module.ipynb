{
 "cells": [
  {
   "cell_type": "code",
   "execution_count": null,
   "id": "7f9cd066",
   "metadata": {},
   "outputs": [
    {
     "name": "stdout",
     "output_type": "stream",
     "text": [
      "Say something (you have 5 seconds to start)...\n",
      "You said: Quang Minh là đồ con chó\n"
     ]
    }
   ],
   "source": [
    "import speech_recognition as sr\n",
    "def user_audio() :\n",
    "    init_recognizer = sr.Recognizer()\n",
    "    with sr.Microphone() as source:\n",
    "            print(\"Say something (you have 5 seconds to start)...\")\n",
    "            init_recognizer.adjust_for_ambient_noise(source,duration=1)\n",
    "            audio = init_recognizer.listen(source, timeout=5)\n",
    "            try:\n",
    "                text = init_recognizer.recognize_google(audio, language=\"vi-VN\")\n",
    "                return text\n",
    "            except sr.WaitTimeoutError:\n",
    "                print(\"Timeout: No speech detected.\")\n",
    "            except sr.UnknownValueError:\n",
    "                print(\"Sorry, I couldn't understand that.\")\n",
    "            except sr.RequestError as e:\n",
    "                print(f\"Could not request results; {e}\")\n",
    "            except KeyboardInterrupt:\n",
    "                print(\"\\nListening interrupted by user.\")\n",
    "\n",
    "    \n"
   ]
  }
 ],
 "metadata": {
  "kernelspec": {
   "display_name": "base",
   "language": "python",
   "name": "python3"
  },
  "language_info": {
   "codemirror_mode": {
    "name": "ipython",
    "version": 3
   },
   "file_extension": ".py",
   "mimetype": "text/x-python",
   "name": "python",
   "nbconvert_exporter": "python",
   "pygments_lexer": "ipython3",
   "version": "3.12.7"
  }
 },
 "nbformat": 4,
 "nbformat_minor": 5
}
